{
 "cells": [
  {
   "cell_type": "markdown",
   "metadata": {},
   "source": [
    "#### Step 1 - Imports"
   ]
  },
  {
   "cell_type": "code",
   "execution_count": 2,
   "metadata": {},
   "outputs": [],
   "source": [
    "import requests\n",
    "import pandas as pd "
   ]
  },
  {
   "cell_type": "markdown",
   "metadata": {},
   "source": [
    "#### Step 2 - Requests & CURL"
   ]
  },
  {
   "cell_type": "code",
   "execution_count": 1,
   "metadata": {},
   "outputs": [],
   "source": [
    "headers = {\n",
    "    'sec-ch-ua': '^\\\\^Chromium^\\\\^;v=^\\\\^94^\\\\^, ^\\\\^Google',\n",
    "    'Referer': 'https://www.ebooks.com/en-de/subjects/computers/',\n",
    "    'sec-ch-ua-mobile': '?0',\n",
    "    'User-Agent': 'Mozilla/5.0 (Windows NT 10.0; Win64; x64) AppleWebKit/537.36 (KHTML, like Gecko) Chrome/94.0.4590.0 Safari/537.36',\n",
    "    'sec-ch-ua-platform': '^\\\\^Windows^\\\\^',\n",
    "    'Content-Type': 'application/json',\n",
    "}\n",
    "\n",
    "params = (\n",
    "    ('subjectId', '13'),\n",
    "    ('pageNumber', '1'),\n",
    "    ('countryCode', 'DE'),\n",
    ")\n",
    "\n",
    "response = requests.get('https://www.ebooks.com/api/search/subject/', headers=headers, params=params)\n"
   ]
  },
  {
   "cell_type": "markdown",
   "metadata": {},
   "source": [
    "#### Step 3 - Check Status Code"
   ]
  },
  {
   "cell_type": "code",
   "execution_count": 3,
   "metadata": {},
   "outputs": [
    {
     "data": {
      "text/plain": [
       "<Response [200]>"
      ]
     },
     "execution_count": 3,
     "metadata": {},
     "output_type": "execute_result"
    }
   ],
   "source": [
    "response"
   ]
  },
  {
   "cell_type": "markdown",
   "metadata": {},
   "source": [
    "#### Step 4 - Create Json Object"
   ]
  },
  {
   "cell_type": "code",
   "execution_count": 4,
   "metadata": {},
   "outputs": [
    {
     "data": {
      "text/plain": [
       "{'pages': [{'number': '1',\n",
       "   'is_selected': True,\n",
       "   'show_mobile': True,\n",
       "   'show_tablet': True,\n",
       "   'search_url': 'https://www.ebooks.com/en-de/subjects/computers/'},\n",
       "  {'number': '2',\n",
       "   'is_selected': False,\n",
       "   'show_mobile': True,\n",
       "   'show_tablet': True,\n",
       "   'search_url': 'https://www.ebooks.com/en-de/subjects/computers/?pageNumber=2'},\n",
       "  {'number': '3',\n",
       "   'is_selected': False,\n",
       "   'show_mobile': True,\n",
       "   'show_tablet': True,\n",
       "   'search_url': 'https://www.ebooks.com/en-de/subjects/computers/?pageNumber=3'},\n",
       "  {'number': '4',\n",
       "   'is_selected': False,\n",
       "   'show_mobile': True,\n",
       "   'show_tablet': True,\n",
       "   'search_url': 'https://www.ebooks.com/en-de/subjects/computers/?pageNumber=4'},\n",
       "  {'number': '5',\n",
       "   'is_selected': False,\n",
       "   'show_mobile': True,\n",
       "   'show_tablet': True,\n",
       "   'search_url': 'https://www.ebooks.com/en-de/subjects/computers/?pageNumber=5'},\n",
       "  {'number': '6',\n",
       "   'is_selected': False,\n",
       "   'show_mobile': False,\n",
       "   'show_tablet': True,\n",
       "   'search_url': 'https://www.ebooks.com/en-de/subjects/computers/?pageNumber=6'},\n",
       "  {'number': '7',\n",
       "   'is_selected': False,\n",
       "   'show_mobile': False,\n",
       "   'show_tablet': True,\n",
       "   'search_url': 'https://www.ebooks.com/en-de/subjects/computers/?pageNumber=7'},\n",
       "  {'number': '8',\n",
       "   'is_selected': False,\n",
       "   'show_mobile': False,\n",
       "   'show_tablet': True,\n",
       "   'search_url': 'https://www.ebooks.com/en-de/subjects/computers/?pageNumber=8'},\n",
       "  {'number': '9',\n",
       "   'is_selected': False,\n",
       "   'show_mobile': False,\n",
       "   'show_tablet': False,\n",
       "   'search_url': 'https://www.ebooks.com/en-de/subjects/computers/?pageNumber=9'}],\n",
       " 'previous_page': None,\n",
       " 'next_page': 'https://www.ebooks.com/en-de/subjects/computers/?pageNumber=2',\n",
       " 'books': [{'id': 209755044,\n",
       "   'book_url': '/en-de/book/209755044/dark-data/david-j-hand/',\n",
       "   'image_url': 'https://image.ebooks.com/previews/209/209755/209755044/209755044-sml-1.jpg',\n",
       "   'image_alt_tag': 'Dark Data: Why What You Don&#x2019;t Know Matters',\n",
       "   'title': 'Dark Data',\n",
       "   'edition': '',\n",
       "   'subtitle': 'Why What You Don’t Know Matters',\n",
       "   'authors': [{'author_name': 'David J. Hand',\n",
       "     'author_url': '/en-de/author/david-j.-hand/165723/'}],\n",
       "   'num_authors': 1,\n",
       "   'series': ' Series',\n",
       "   'series_number': '',\n",
       "   'has_series': False,\n",
       "   'series_url': '',\n",
       "   'publisher': 'Princeton University Press',\n",
       "   'publication_year': '2020',\n",
       "   'price': '28,88 €',\n",
       "   'desktop_short_description': 'A practical guide to making good decisions in a world of missing data   In the era of big data, it is easy to imagine that we have all the information we need to make good decisions. But in fact the data we have are never complete, and may be only the tip of the iceberg. Just as much of the universe is composed of dark matter, invisible to us but...',\n",
       "   'mobile_short_description': 'A practical guide to making good decisions in a world of missing data   In the era of big data, it...',\n",
       "   'is_preorder': False,\n",
       "   'is_available': True,\n",
       "   'preorder_url': '/account/preorder/?bookId=209755044',\n",
       "   'add_to_cart_url': '/cart/add/209755044/',\n",
       "   'currency_symbol': '€',\n",
       "   'price_number': 28.8793},\n",
       "  {'id': 817871,\n",
       "   'book_url': '/en-de/book/817871/html-and-css/jon-duckett/',\n",
       "   'image_url': 'https://image.ebooks.com/previews/000/000817/000817871/000817871-sml-1.jpg',\n",
       "   'image_alt_tag': 'HTML and CSS: Design and Build Websites',\n",
       "   'title': 'HTML and CSS',\n",
       "   'edition': '',\n",
       "   'subtitle': 'Design and Build Websites',\n",
       "   'authors': [{'author_name': 'Jon Duckett',\n",
       "     'author_url': '/en-de/author/jon-duckett/50444/'}],\n",
       "   'num_authors': 1,\n",
       "   'series': ' Series',\n",
       "   'series_number': '',\n",
       "   'has_series': False,\n",
       "   'series_url': '',\n",
       "   'publisher': 'Wiley',\n",
       "   'publication_year': '2011',\n",
       "   'price': '19,99 €',\n",
       "   'desktop_short_description': 'A full-color introduction to the basics of HTML and CSS!   Every day, more and more people want to learn some HTML and CSS. Joining the professional web designers and programmers are new audiences who need to know a little bit of code at work (update a content management system or e-commerce store) and those who want to make their personal blogs...',\n",
       "   'mobile_short_description': 'A full-color introduction to the basics of HTML and CSS!   Every day, more and more people want to...',\n",
       "   'is_preorder': False,\n",
       "   'is_available': True,\n",
       "   'preorder_url': '/account/preorder/?bookId=817871',\n",
       "   'add_to_cart_url': '/cart/add/817871/',\n",
       "   'currency_symbol': '€',\n",
       "   'price_number': 19.99},\n",
       "  {'id': 209980266,\n",
       "   'book_url': '/en-de/book/209980266/effective-seo-and-content-marketing/nicholas-papagiannis/',\n",
       "   'image_url': 'https://image.ebooks.com/previews/209/209980/209980266/209980266-sml-1.jpg',\n",
       "   'image_alt_tag': 'Effective SEO and Content Marketing: The Ultimate Guide for Maximizing Free Web Traffic',\n",
       "   'title': 'Effective SEO and Content Marketing',\n",
       "   'edition': '',\n",
       "   'subtitle': 'The Ultimate Guide for Maximizing Free Web Traffic',\n",
       "   'authors': [{'author_name': 'Nicholas Papagiannis',\n",
       "     'author_url': '/en-de/author/nicholas-papagiannis/208382552/'}],\n",
       "   'num_authors': 1,\n",
       "   'series': ' Series',\n",
       "   'series_number': '',\n",
       "   'has_series': False,\n",
       "   'series_url': '',\n",
       "   'publisher': 'Wiley',\n",
       "   'publication_year': '2020',\n",
       "   'price': '28,99 €',\n",
       "   'desktop_short_description': 'Get beyond the basics and see how modern-day users are reimaging the SEO process    SEO is often underutilized and overlooked across the marketing realm today. SEO is not merely trying to improve your website ranking on Google, but it can spark and optimize ideas.\\xa0 Above all it can help improve the amount of free traffic coming to your web...',\n",
       "   'mobile_short_description': 'Get beyond the basics and see how modern-day users are reimaging the SEO process    SEO is often...',\n",
       "   'is_preorder': False,\n",
       "   'is_available': True,\n",
       "   'preorder_url': '/account/preorder/?bookId=209980266',\n",
       "   'add_to_cart_url': '/cart/add/209980266/',\n",
       "   'currency_symbol': '€',\n",
       "   'price_number': 28.99},\n",
       "  {'id': 210004695,\n",
       "   'book_url': '/en-de/book/210004695/windows-server-2019-inside-out/orin-thomas/',\n",
       "   'image_url': 'https://image.ebooks.com/previews/210/210004/210004695/210004695-sml-1.jpg',\n",
       "   'image_alt_tag': 'Windows Server 2019 Inside Out',\n",
       "   'title': 'Windows Server 2019 Inside Out',\n",
       "   'edition': '',\n",
       "   'subtitle': '',\n",
       "   'authors': [{'author_name': 'Orin Thomas',\n",
       "     'author_url': '/en-de/author/orin-thomas/239524/'}],\n",
       "   'num_authors': 1,\n",
       "   'series': 'Inside Out Series',\n",
       "   'series_number': '',\n",
       "   'has_series': True,\n",
       "   'series_url': 'https://www.ebooks.com/en-de/series/inside-out/',\n",
       "   'publisher': 'Pearson Education',\n",
       "   'publication_year': '2020',\n",
       "   'price': '50,48 €',\n",
       "   'desktop_short_description': 'Conquer Windows Server 2019—from the inside out!    &nbsp;    Dive into Windows Server 2019—and really put your Windows Serverexpertise to work. Focusing on Windows Server 2019’s most powerful and innovative features, this supremely organized reference packs hundreds of timesaving solutions, tips, and workarounds—all you need to plan, implement, or...',\n",
       "   'mobile_short_description': 'Conquer Windows Server 2019—from the inside out!    &nbsp;    Dive into Windows Server 2019—and...',\n",
       "   'is_preorder': False,\n",
       "   'is_available': True,\n",
       "   'preorder_url': '/account/preorder/?bookId=210004695',\n",
       "   'add_to_cart_url': '/cart/add/210004695/',\n",
       "   'currency_symbol': '€',\n",
       "   'price_number': 50.4839495589},\n",
       "  {'id': 138564495,\n",
       "   'book_url': '/en-de/book/138564495/business-analysis/debra-paul/',\n",
       "   'image_url': 'https://image.ebooks.com/previews/138/138564/138564495/138564495-sml-1.jpg',\n",
       "   'image_alt_tag': 'Business Analysis',\n",
       "   'title': 'Business Analysis',\n",
       "   'edition': ' (3rd ed.)',\n",
       "   'subtitle': '',\n",
       "   'authors': [{'author_name': 'Debra Paul',\n",
       "     'author_url': '/en-de/author/debra-paul/206241/'},\n",
       "    {'author_name': 'James Cadle',\n",
       "     'author_url': '/en-de/author/james-cadle/206243/'}],\n",
       "   'num_authors': 10,\n",
       "   'series': ' Series',\n",
       "   'series_number': '',\n",
       "   'has_series': False,\n",
       "   'series_url': '',\n",
       "   'publisher': 'BCS Learning & Development Limited',\n",
       "   'publication_year': '2014',\n",
       "   'price': '48,14 €',\n",
       "   'desktop_short_description': \"Business analysts must respond to today's challenges by developing practical, creative and financially sound solutions. They need look no further for the necessary tools. This new edition of the bestselling BA guide includes the impact of Agile, an introduction to business architecture and expanded material on gap analysis and benefits management.\",\n",
       "   'mobile_short_description': \"Business analysts must respond to today's challenges by developing practical, creative and...\",\n",
       "   'is_preorder': False,\n",
       "   'is_available': True,\n",
       "   'preorder_url': '/account/preorder/?bookId=138564495',\n",
       "   'add_to_cart_url': '/cart/add/138564495/',\n",
       "   'currency_symbol': '€',\n",
       "   'price_number': 48.1393},\n",
       "  {'id': 95775055,\n",
       "   'book_url': '/en-de/book/95775055/comptia-security-study-guide/emmett-dulaney/',\n",
       "   'image_url': 'https://image.ebooks.com/previews/095/095775/095775055/095775055-sml-1.jpg',\n",
       "   'image_alt_tag': 'CompTIA Security&#x2B; Study Guide: Exam SY0-501',\n",
       "   'title': 'CompTIA Security+ Study Guide',\n",
       "   'edition': ' (7th ed.)',\n",
       "   'subtitle': 'Exam SY0-501',\n",
       "   'authors': [{'author_name': 'Emmett Dulaney',\n",
       "     'author_url': '/en-de/author/emmett-dulaney/73830/'},\n",
       "    {'author_name': 'Chuck Easttom',\n",
       "     'author_url': '/en-de/author/chuck-easttom/403255/'}],\n",
       "   'num_authors': 2,\n",
       "   'series': ' Series',\n",
       "   'series_number': '',\n",
       "   'has_series': False,\n",
       "   'series_url': '',\n",
       "   'publisher': 'Wiley',\n",
       "   'publication_year': '2017',\n",
       "   'price': '32,99 €',\n",
       "   'desktop_short_description': 'Some copies of CompTIA Security+ Study Guide: Exam SY0-501 (9781119416876) were printed without discount exam vouchers in the front of the books. If you did not receive a discount exam voucher with your book, please visit  http://media.wiley.com/product_ancillary/5X/11194168/DOWNLOAD/CompTIA_Coupon.pdf  to download one.    Expert preparation...',\n",
       "   'mobile_short_description': 'Some copies of CompTIA Security+ Study Guide: Exam SY0-501 (9781119416876) were printed without...',\n",
       "   'is_preorder': False,\n",
       "   'is_available': True,\n",
       "   'preorder_url': '/account/preorder/?bookId=95775055',\n",
       "   'add_to_cart_url': '/cart/add/95775055/',\n",
       "   'currency_symbol': '€',\n",
       "   'price_number': 32.99},\n",
       "  {'id': 210124083,\n",
       "   'book_url': '/en-de/book/210124083/comptia-security-sy0-601-exam-cram/martin-m-weiss/',\n",
       "   'image_url': 'https://image.ebooks.com/previews/210/210124/210124083/210124083-sml-1.jpg',\n",
       "   'image_alt_tag': 'CompTIA Security&#x2B; SY0-601 Exam Cram',\n",
       "   'title': 'CompTIA Security+ SY0-601 Exam Cram',\n",
       "   'edition': ' (6th ed.)',\n",
       "   'subtitle': '',\n",
       "   'authors': [{'author_name': 'Martin M. Weiss',\n",
       "     'author_url': '/en-de/author/martin-m.-weiss/94214231/'}],\n",
       "   'num_authors': 1,\n",
       "   'series': ' Series',\n",
       "   'series_number': '',\n",
       "   'has_series': False,\n",
       "   'series_url': '',\n",
       "   'publisher': 'Pearson Education',\n",
       "   'publication_year': '2020',\n",
       "   'price': '32,45 €',\n",
       "   'desktop_short_description': 'Prepare for CompTIA Security+ SY0-601 exam success with this Exam Cram from Pearson IT Certification, a leader in IT certification.                    This is the eBook edition of the   CompTIA Security+ SY0-601 Exam Cram , Sixth Edition. This eBook does not include access to the Pearson Test Prep practice exams that comes with the print edition.  ...',\n",
       "   'mobile_short_description': 'Prepare for CompTIA Security+ SY0-601 exam success with this Exam Cram from Pearson IT...',\n",
       "   'is_preorder': False,\n",
       "   'is_available': True,\n",
       "   'preorder_url': '/account/preorder/?bookId=210124083',\n",
       "   'add_to_cart_url': '/cart/add/210124083/',\n",
       "   'currency_symbol': '€',\n",
       "   'price_number': 32.4507473589},\n",
       "  {'id': 95948809,\n",
       "   'book_url': '/en-de/book/95948809/isc-2-cissp-certified-information-systems-security-professional-official-study-guide/mike-chapple/',\n",
       "   'image_url': 'https://image.ebooks.com/previews/095/095948/095948809/095948809-sml-1.jpg',\n",
       "   'image_alt_tag': '(ISC)2 CISSP Certified Information Systems Security Professional Official Study Guide',\n",
       "   'title': '(ISC)2 CISSP Certified Information Systems Security Professional Official Study Guide',\n",
       "   'edition': ' (8th ed.)',\n",
       "   'subtitle': '',\n",
       "   'authors': [{'author_name': 'Mike Chapple',\n",
       "     'author_url': '/en-de/author/mike-chapple/49085/'},\n",
       "    {'author_name': 'James Michael Stewart',\n",
       "     'author_url': '/en-de/author/james-michael-stewart/49045/'}],\n",
       "   'num_authors': 3,\n",
       "   'series': ' Series',\n",
       "   'series_number': '',\n",
       "   'has_series': False,\n",
       "   'series_url': '',\n",
       "   'publisher': 'Wiley',\n",
       "   'publication_year': '2018',\n",
       "   'price': '44,99 €',\n",
       "   'desktop_short_description': 'NOTE: The CISSP objectives this book covered were issued in 2018. For coverage of the most recent CISSP objectives effective in April 2021, please look for the latest edition of this guide:  (ISC) 2  CISSP Certified Information Systems Security Professional Official Study Guide, 9th Edition  (ISBN: 9781119786238).     CISSP (ISC)2 Certified...',\n",
       "   'mobile_short_description': 'NOTE: The CISSP objectives this book covered were issued in 2018. For coverage of the most recent...',\n",
       "   'is_preorder': False,\n",
       "   'is_available': True,\n",
       "   'preorder_url': '/account/preorder/?bookId=95948809',\n",
       "   'add_to_cart_url': '/cart/add/95948809/',\n",
       "   'currency_symbol': '€',\n",
       "   'price_number': 44.99},\n",
       "  {'id': 209657952,\n",
       "   'book_url': '/en-de/book/209657952/the-official-isc-2-guide-to-the-cissp-cbk-reference/john-warsinske/',\n",
       "   'image_url': 'https://image.ebooks.com/previews/209/209657/209657952/209657952-sml-1.jpg',\n",
       "   'image_alt_tag': 'The Official (ISC)2 Guide to the CISSP CBK Reference',\n",
       "   'title': 'The Official (ISC)2 Guide to the CISSP CBK Reference',\n",
       "   'edition': ' (5th ed.)',\n",
       "   'subtitle': '',\n",
       "   'authors': [{'author_name': 'John Warsinske',\n",
       "     'author_url': '/en-de/author/john-warsinske/208227406/'},\n",
       "    {'author_name': 'Mark Graff',\n",
       "     'author_url': '/en-de/author/mark-graff/208227407/'}],\n",
       "   'num_authors': 11,\n",
       "   'series': ' Series',\n",
       "   'series_number': '',\n",
       "   'has_series': False,\n",
       "   'series_url': '',\n",
       "   'publisher': 'Wiley',\n",
       "   'publication_year': '2019',\n",
       "   'price': '69,99 €',\n",
       "   'desktop_short_description': 'The only official, comprehensive reference guide to the CISSP    All new for 2019 and beyond, this is the authoritative common body of knowledge (CBK) from (ISC) 2  for information security professionals charged with designing, engineering, implementing, and managing the overall information security program to protect organizations from...',\n",
       "   'mobile_short_description': 'The only official, comprehensive reference guide to the CISSP    All new for 2019 and beyond, this...',\n",
       "   'is_preorder': False,\n",
       "   'is_available': True,\n",
       "   'preorder_url': '/account/preorder/?bookId=209657952',\n",
       "   'add_to_cart_url': '/cart/add/209657952/',\n",
       "   'currency_symbol': '€',\n",
       "   'price_number': 69.99},\n",
       "  {'id': 821878,\n",
       "   'book_url': '/en-de/book/821878/software-in-30-days/ken-schwaber/',\n",
       "   'image_url': 'https://image.ebooks.com/previews/000/000821/000821878/000821878-sml-1.jpg',\n",
       "   'image_alt_tag': 'Software in 30 Days: How Agile Managers Beat the Odds, Delight Their Customers, and Leave Competitors in the Dust',\n",
       "   'title': 'Software in 30 Days',\n",
       "   'edition': '',\n",
       "   'subtitle': 'How Agile Managers Beat the Odds, Delight Their Customers, and Leave Competitors in the Dust',\n",
       "   'authors': [{'author_name': 'Ken Schwaber',\n",
       "     'author_url': '/en-de/author/ken-schwaber/208954/'},\n",
       "    {'author_name': 'Jeff Sutherland',\n",
       "     'author_url': '/en-de/author/jeff-sutherland/403409/'}],\n",
       "   'num_authors': 2,\n",
       "   'series': ' Series',\n",
       "   'series_number': '',\n",
       "   'has_series': False,\n",
       "   'series_url': '',\n",
       "   'publisher': 'Wiley',\n",
       "   'publication_year': '2012',\n",
       "   'price': '19,99 €',\n",
       "   'desktop_short_description': \"A radical approach to getting IT projects done faster and cheaper than anyone thinks possible    Software in 30 Days  summarizes the Agile and Scrum software development method, which allows creation of game-changing software, in just 30 days. Projects that use it are three times more successful than those that don't.  Software in 30 Days  is for...\",\n",
       "   'mobile_short_description': 'A radical approach to getting IT projects done faster and cheaper than anyone thinks possible   ...',\n",
       "   'is_preorder': False,\n",
       "   'is_available': True,\n",
       "   'preorder_url': '/account/preorder/?bookId=821878',\n",
       "   'add_to_cart_url': '/cart/add/821878/',\n",
       "   'currency_symbol': '€',\n",
       "   'price_number': 19.99}],\n",
       " 'result_page_range': '1 - 10 of 78494 results'}"
      ]
     },
     "execution_count": 4,
     "metadata": {},
     "output_type": "execute_result"
    }
   ],
   "source": [
    "response.json()"
   ]
  },
  {
   "cell_type": "code",
   "execution_count": 5,
   "metadata": {},
   "outputs": [
    {
     "data": {
      "text/plain": [
       "dict"
      ]
     },
     "execution_count": 5,
     "metadata": {},
     "output_type": "execute_result"
    }
   ],
   "source": [
    "type(response.json())"
   ]
  },
  {
   "cell_type": "markdown",
   "metadata": {},
   "source": [
    "#### Step 5 - Output Keys"
   ]
  },
  {
   "cell_type": "code",
   "execution_count": 6,
   "metadata": {},
   "outputs": [
    {
     "data": {
      "text/plain": [
       "dict_keys(['pages', 'previous_page', 'next_page', 'books', 'result_page_range'])"
      ]
     },
     "execution_count": 6,
     "metadata": {},
     "output_type": "execute_result"
    }
   ],
   "source": [
    "response.json().keys()"
   ]
  },
  {
   "cell_type": "markdown",
   "metadata": {},
   "source": [
    "#### Step 6 - Find your Data"
   ]
  },
  {
   "cell_type": "code",
   "execution_count": null,
   "metadata": {},
   "outputs": [],
   "source": [
    "# title\n",
    "# subtitle\n",
    "# author\n",
    "# publisher\n",
    "# publication year\n",
    "# price"
   ]
  },
  {
   "cell_type": "code",
   "execution_count": 8,
   "metadata": {},
   "outputs": [
    {
     "data": {
      "text/plain": [
       "[{'id': 209755044,\n",
       "  'book_url': '/en-de/book/209755044/dark-data/david-j-hand/',\n",
       "  'image_url': 'https://image.ebooks.com/previews/209/209755/209755044/209755044-sml-1.jpg',\n",
       "  'image_alt_tag': 'Dark Data: Why What You Don&#x2019;t Know Matters',\n",
       "  'title': 'Dark Data',\n",
       "  'edition': '',\n",
       "  'subtitle': 'Why What You Don’t Know Matters',\n",
       "  'authors': [{'author_name': 'David J. Hand',\n",
       "    'author_url': '/en-de/author/david-j.-hand/165723/'}],\n",
       "  'num_authors': 1,\n",
       "  'series': ' Series',\n",
       "  'series_number': '',\n",
       "  'has_series': False,\n",
       "  'series_url': '',\n",
       "  'publisher': 'Princeton University Press',\n",
       "  'publication_year': '2020',\n",
       "  'price': '28,88 €',\n",
       "  'desktop_short_description': 'A practical guide to making good decisions in a world of missing data   In the era of big data, it is easy to imagine that we have all the information we need to make good decisions. But in fact the data we have are never complete, and may be only the tip of the iceberg. Just as much of the universe is composed of dark matter, invisible to us but...',\n",
       "  'mobile_short_description': 'A practical guide to making good decisions in a world of missing data   In the era of big data, it...',\n",
       "  'is_preorder': False,\n",
       "  'is_available': True,\n",
       "  'preorder_url': '/account/preorder/?bookId=209755044',\n",
       "  'add_to_cart_url': '/cart/add/209755044/',\n",
       "  'currency_symbol': '€',\n",
       "  'price_number': 28.8793},\n",
       " {'id': 817871,\n",
       "  'book_url': '/en-de/book/817871/html-and-css/jon-duckett/',\n",
       "  'image_url': 'https://image.ebooks.com/previews/000/000817/000817871/000817871-sml-1.jpg',\n",
       "  'image_alt_tag': 'HTML and CSS: Design and Build Websites',\n",
       "  'title': 'HTML and CSS',\n",
       "  'edition': '',\n",
       "  'subtitle': 'Design and Build Websites',\n",
       "  'authors': [{'author_name': 'Jon Duckett',\n",
       "    'author_url': '/en-de/author/jon-duckett/50444/'}],\n",
       "  'num_authors': 1,\n",
       "  'series': ' Series',\n",
       "  'series_number': '',\n",
       "  'has_series': False,\n",
       "  'series_url': '',\n",
       "  'publisher': 'Wiley',\n",
       "  'publication_year': '2011',\n",
       "  'price': '19,99 €',\n",
       "  'desktop_short_description': 'A full-color introduction to the basics of HTML and CSS!   Every day, more and more people want to learn some HTML and CSS. Joining the professional web designers and programmers are new audiences who need to know a little bit of code at work (update a content management system or e-commerce store) and those who want to make their personal blogs...',\n",
       "  'mobile_short_description': 'A full-color introduction to the basics of HTML and CSS!   Every day, more and more people want to...',\n",
       "  'is_preorder': False,\n",
       "  'is_available': True,\n",
       "  'preorder_url': '/account/preorder/?bookId=817871',\n",
       "  'add_to_cart_url': '/cart/add/817871/',\n",
       "  'currency_symbol': '€',\n",
       "  'price_number': 19.99},\n",
       " {'id': 209980266,\n",
       "  'book_url': '/en-de/book/209980266/effective-seo-and-content-marketing/nicholas-papagiannis/',\n",
       "  'image_url': 'https://image.ebooks.com/previews/209/209980/209980266/209980266-sml-1.jpg',\n",
       "  'image_alt_tag': 'Effective SEO and Content Marketing: The Ultimate Guide for Maximizing Free Web Traffic',\n",
       "  'title': 'Effective SEO and Content Marketing',\n",
       "  'edition': '',\n",
       "  'subtitle': 'The Ultimate Guide for Maximizing Free Web Traffic',\n",
       "  'authors': [{'author_name': 'Nicholas Papagiannis',\n",
       "    'author_url': '/en-de/author/nicholas-papagiannis/208382552/'}],\n",
       "  'num_authors': 1,\n",
       "  'series': ' Series',\n",
       "  'series_number': '',\n",
       "  'has_series': False,\n",
       "  'series_url': '',\n",
       "  'publisher': 'Wiley',\n",
       "  'publication_year': '2020',\n",
       "  'price': '28,99 €',\n",
       "  'desktop_short_description': 'Get beyond the basics and see how modern-day users are reimaging the SEO process    SEO is often underutilized and overlooked across the marketing realm today. SEO is not merely trying to improve your website ranking on Google, but it can spark and optimize ideas.\\xa0 Above all it can help improve the amount of free traffic coming to your web...',\n",
       "  'mobile_short_description': 'Get beyond the basics and see how modern-day users are reimaging the SEO process    SEO is often...',\n",
       "  'is_preorder': False,\n",
       "  'is_available': True,\n",
       "  'preorder_url': '/account/preorder/?bookId=209980266',\n",
       "  'add_to_cart_url': '/cart/add/209980266/',\n",
       "  'currency_symbol': '€',\n",
       "  'price_number': 28.99},\n",
       " {'id': 210004695,\n",
       "  'book_url': '/en-de/book/210004695/windows-server-2019-inside-out/orin-thomas/',\n",
       "  'image_url': 'https://image.ebooks.com/previews/210/210004/210004695/210004695-sml-1.jpg',\n",
       "  'image_alt_tag': 'Windows Server 2019 Inside Out',\n",
       "  'title': 'Windows Server 2019 Inside Out',\n",
       "  'edition': '',\n",
       "  'subtitle': '',\n",
       "  'authors': [{'author_name': 'Orin Thomas',\n",
       "    'author_url': '/en-de/author/orin-thomas/239524/'}],\n",
       "  'num_authors': 1,\n",
       "  'series': 'Inside Out Series',\n",
       "  'series_number': '',\n",
       "  'has_series': True,\n",
       "  'series_url': 'https://www.ebooks.com/en-de/series/inside-out/',\n",
       "  'publisher': 'Pearson Education',\n",
       "  'publication_year': '2020',\n",
       "  'price': '50,48 €',\n",
       "  'desktop_short_description': 'Conquer Windows Server 2019—from the inside out!    &nbsp;    Dive into Windows Server 2019—and really put your Windows Serverexpertise to work. Focusing on Windows Server 2019’s most powerful and innovative features, this supremely organized reference packs hundreds of timesaving solutions, tips, and workarounds—all you need to plan, implement, or...',\n",
       "  'mobile_short_description': 'Conquer Windows Server 2019—from the inside out!    &nbsp;    Dive into Windows Server 2019—and...',\n",
       "  'is_preorder': False,\n",
       "  'is_available': True,\n",
       "  'preorder_url': '/account/preorder/?bookId=210004695',\n",
       "  'add_to_cart_url': '/cart/add/210004695/',\n",
       "  'currency_symbol': '€',\n",
       "  'price_number': 50.4839495589},\n",
       " {'id': 138564495,\n",
       "  'book_url': '/en-de/book/138564495/business-analysis/debra-paul/',\n",
       "  'image_url': 'https://image.ebooks.com/previews/138/138564/138564495/138564495-sml-1.jpg',\n",
       "  'image_alt_tag': 'Business Analysis',\n",
       "  'title': 'Business Analysis',\n",
       "  'edition': ' (3rd ed.)',\n",
       "  'subtitle': '',\n",
       "  'authors': [{'author_name': 'Debra Paul',\n",
       "    'author_url': '/en-de/author/debra-paul/206241/'},\n",
       "   {'author_name': 'James Cadle',\n",
       "    'author_url': '/en-de/author/james-cadle/206243/'}],\n",
       "  'num_authors': 10,\n",
       "  'series': ' Series',\n",
       "  'series_number': '',\n",
       "  'has_series': False,\n",
       "  'series_url': '',\n",
       "  'publisher': 'BCS Learning & Development Limited',\n",
       "  'publication_year': '2014',\n",
       "  'price': '48,14 €',\n",
       "  'desktop_short_description': \"Business analysts must respond to today's challenges by developing practical, creative and financially sound solutions. They need look no further for the necessary tools. This new edition of the bestselling BA guide includes the impact of Agile, an introduction to business architecture and expanded material on gap analysis and benefits management.\",\n",
       "  'mobile_short_description': \"Business analysts must respond to today's challenges by developing practical, creative and...\",\n",
       "  'is_preorder': False,\n",
       "  'is_available': True,\n",
       "  'preorder_url': '/account/preorder/?bookId=138564495',\n",
       "  'add_to_cart_url': '/cart/add/138564495/',\n",
       "  'currency_symbol': '€',\n",
       "  'price_number': 48.1393},\n",
       " {'id': 95775055,\n",
       "  'book_url': '/en-de/book/95775055/comptia-security-study-guide/emmett-dulaney/',\n",
       "  'image_url': 'https://image.ebooks.com/previews/095/095775/095775055/095775055-sml-1.jpg',\n",
       "  'image_alt_tag': 'CompTIA Security&#x2B; Study Guide: Exam SY0-501',\n",
       "  'title': 'CompTIA Security+ Study Guide',\n",
       "  'edition': ' (7th ed.)',\n",
       "  'subtitle': 'Exam SY0-501',\n",
       "  'authors': [{'author_name': 'Emmett Dulaney',\n",
       "    'author_url': '/en-de/author/emmett-dulaney/73830/'},\n",
       "   {'author_name': 'Chuck Easttom',\n",
       "    'author_url': '/en-de/author/chuck-easttom/403255/'}],\n",
       "  'num_authors': 2,\n",
       "  'series': ' Series',\n",
       "  'series_number': '',\n",
       "  'has_series': False,\n",
       "  'series_url': '',\n",
       "  'publisher': 'Wiley',\n",
       "  'publication_year': '2017',\n",
       "  'price': '32,99 €',\n",
       "  'desktop_short_description': 'Some copies of CompTIA Security+ Study Guide: Exam SY0-501 (9781119416876) were printed without discount exam vouchers in the front of the books. If you did not receive a discount exam voucher with your book, please visit  http://media.wiley.com/product_ancillary/5X/11194168/DOWNLOAD/CompTIA_Coupon.pdf  to download one.    Expert preparation...',\n",
       "  'mobile_short_description': 'Some copies of CompTIA Security+ Study Guide: Exam SY0-501 (9781119416876) were printed without...',\n",
       "  'is_preorder': False,\n",
       "  'is_available': True,\n",
       "  'preorder_url': '/account/preorder/?bookId=95775055',\n",
       "  'add_to_cart_url': '/cart/add/95775055/',\n",
       "  'currency_symbol': '€',\n",
       "  'price_number': 32.99},\n",
       " {'id': 210124083,\n",
       "  'book_url': '/en-de/book/210124083/comptia-security-sy0-601-exam-cram/martin-m-weiss/',\n",
       "  'image_url': 'https://image.ebooks.com/previews/210/210124/210124083/210124083-sml-1.jpg',\n",
       "  'image_alt_tag': 'CompTIA Security&#x2B; SY0-601 Exam Cram',\n",
       "  'title': 'CompTIA Security+ SY0-601 Exam Cram',\n",
       "  'edition': ' (6th ed.)',\n",
       "  'subtitle': '',\n",
       "  'authors': [{'author_name': 'Martin M. Weiss',\n",
       "    'author_url': '/en-de/author/martin-m.-weiss/94214231/'}],\n",
       "  'num_authors': 1,\n",
       "  'series': ' Series',\n",
       "  'series_number': '',\n",
       "  'has_series': False,\n",
       "  'series_url': '',\n",
       "  'publisher': 'Pearson Education',\n",
       "  'publication_year': '2020',\n",
       "  'price': '32,45 €',\n",
       "  'desktop_short_description': 'Prepare for CompTIA Security+ SY0-601 exam success with this Exam Cram from Pearson IT Certification, a leader in IT certification.                    This is the eBook edition of the   CompTIA Security+ SY0-601 Exam Cram , Sixth Edition. This eBook does not include access to the Pearson Test Prep practice exams that comes with the print edition.  ...',\n",
       "  'mobile_short_description': 'Prepare for CompTIA Security+ SY0-601 exam success with this Exam Cram from Pearson IT...',\n",
       "  'is_preorder': False,\n",
       "  'is_available': True,\n",
       "  'preorder_url': '/account/preorder/?bookId=210124083',\n",
       "  'add_to_cart_url': '/cart/add/210124083/',\n",
       "  'currency_symbol': '€',\n",
       "  'price_number': 32.4507473589},\n",
       " {'id': 95948809,\n",
       "  'book_url': '/en-de/book/95948809/isc-2-cissp-certified-information-systems-security-professional-official-study-guide/mike-chapple/',\n",
       "  'image_url': 'https://image.ebooks.com/previews/095/095948/095948809/095948809-sml-1.jpg',\n",
       "  'image_alt_tag': '(ISC)2 CISSP Certified Information Systems Security Professional Official Study Guide',\n",
       "  'title': '(ISC)2 CISSP Certified Information Systems Security Professional Official Study Guide',\n",
       "  'edition': ' (8th ed.)',\n",
       "  'subtitle': '',\n",
       "  'authors': [{'author_name': 'Mike Chapple',\n",
       "    'author_url': '/en-de/author/mike-chapple/49085/'},\n",
       "   {'author_name': 'James Michael Stewart',\n",
       "    'author_url': '/en-de/author/james-michael-stewart/49045/'}],\n",
       "  'num_authors': 3,\n",
       "  'series': ' Series',\n",
       "  'series_number': '',\n",
       "  'has_series': False,\n",
       "  'series_url': '',\n",
       "  'publisher': 'Wiley',\n",
       "  'publication_year': '2018',\n",
       "  'price': '44,99 €',\n",
       "  'desktop_short_description': 'NOTE: The CISSP objectives this book covered were issued in 2018. For coverage of the most recent CISSP objectives effective in April 2021, please look for the latest edition of this guide:  (ISC) 2  CISSP Certified Information Systems Security Professional Official Study Guide, 9th Edition  (ISBN: 9781119786238).     CISSP (ISC)2 Certified...',\n",
       "  'mobile_short_description': 'NOTE: The CISSP objectives this book covered were issued in 2018. For coverage of the most recent...',\n",
       "  'is_preorder': False,\n",
       "  'is_available': True,\n",
       "  'preorder_url': '/account/preorder/?bookId=95948809',\n",
       "  'add_to_cart_url': '/cart/add/95948809/',\n",
       "  'currency_symbol': '€',\n",
       "  'price_number': 44.99},\n",
       " {'id': 209657952,\n",
       "  'book_url': '/en-de/book/209657952/the-official-isc-2-guide-to-the-cissp-cbk-reference/john-warsinske/',\n",
       "  'image_url': 'https://image.ebooks.com/previews/209/209657/209657952/209657952-sml-1.jpg',\n",
       "  'image_alt_tag': 'The Official (ISC)2 Guide to the CISSP CBK Reference',\n",
       "  'title': 'The Official (ISC)2 Guide to the CISSP CBK Reference',\n",
       "  'edition': ' (5th ed.)',\n",
       "  'subtitle': '',\n",
       "  'authors': [{'author_name': 'John Warsinske',\n",
       "    'author_url': '/en-de/author/john-warsinske/208227406/'},\n",
       "   {'author_name': 'Mark Graff',\n",
       "    'author_url': '/en-de/author/mark-graff/208227407/'}],\n",
       "  'num_authors': 11,\n",
       "  'series': ' Series',\n",
       "  'series_number': '',\n",
       "  'has_series': False,\n",
       "  'series_url': '',\n",
       "  'publisher': 'Wiley',\n",
       "  'publication_year': '2019',\n",
       "  'price': '69,99 €',\n",
       "  'desktop_short_description': 'The only official, comprehensive reference guide to the CISSP    All new for 2019 and beyond, this is the authoritative common body of knowledge (CBK) from (ISC) 2  for information security professionals charged with designing, engineering, implementing, and managing the overall information security program to protect organizations from...',\n",
       "  'mobile_short_description': 'The only official, comprehensive reference guide to the CISSP    All new for 2019 and beyond, this...',\n",
       "  'is_preorder': False,\n",
       "  'is_available': True,\n",
       "  'preorder_url': '/account/preorder/?bookId=209657952',\n",
       "  'add_to_cart_url': '/cart/add/209657952/',\n",
       "  'currency_symbol': '€',\n",
       "  'price_number': 69.99},\n",
       " {'id': 821878,\n",
       "  'book_url': '/en-de/book/821878/software-in-30-days/ken-schwaber/',\n",
       "  'image_url': 'https://image.ebooks.com/previews/000/000821/000821878/000821878-sml-1.jpg',\n",
       "  'image_alt_tag': 'Software in 30 Days: How Agile Managers Beat the Odds, Delight Their Customers, and Leave Competitors in the Dust',\n",
       "  'title': 'Software in 30 Days',\n",
       "  'edition': '',\n",
       "  'subtitle': 'How Agile Managers Beat the Odds, Delight Their Customers, and Leave Competitors in the Dust',\n",
       "  'authors': [{'author_name': 'Ken Schwaber',\n",
       "    'author_url': '/en-de/author/ken-schwaber/208954/'},\n",
       "   {'author_name': 'Jeff Sutherland',\n",
       "    'author_url': '/en-de/author/jeff-sutherland/403409/'}],\n",
       "  'num_authors': 2,\n",
       "  'series': ' Series',\n",
       "  'series_number': '',\n",
       "  'has_series': False,\n",
       "  'series_url': '',\n",
       "  'publisher': 'Wiley',\n",
       "  'publication_year': '2012',\n",
       "  'price': '19,99 €',\n",
       "  'desktop_short_description': \"A radical approach to getting IT projects done faster and cheaper than anyone thinks possible    Software in 30 Days  summarizes the Agile and Scrum software development method, which allows creation of game-changing software, in just 30 days. Projects that use it are three times more successful than those that don't.  Software in 30 Days  is for...\",\n",
       "  'mobile_short_description': 'A radical approach to getting IT projects done faster and cheaper than anyone thinks possible   ...',\n",
       "  'is_preorder': False,\n",
       "  'is_available': True,\n",
       "  'preorder_url': '/account/preorder/?bookId=821878',\n",
       "  'add_to_cart_url': '/cart/add/821878/',\n",
       "  'currency_symbol': '€',\n",
       "  'price_number': 19.99}]"
      ]
     },
     "execution_count": 8,
     "metadata": {},
     "output_type": "execute_result"
    }
   ],
   "source": [
    "response.json()['books']"
   ]
  },
  {
   "cell_type": "code",
   "execution_count": 10,
   "metadata": {},
   "outputs": [],
   "source": [
    "results_json = response.json()['books']"
   ]
  },
  {
   "cell_type": "code",
   "execution_count": 22,
   "metadata": {},
   "outputs": [
    {
     "data": {
      "text/plain": [
       "10"
      ]
     },
     "execution_count": 22,
     "metadata": {},
     "output_type": "execute_result"
    }
   ],
   "source": [
    "len(results_json)"
   ]
  },
  {
   "cell_type": "code",
   "execution_count": 14,
   "metadata": {},
   "outputs": [
    {
     "data": {
      "text/plain": [
       "{'id': 209755044,\n",
       " 'book_url': '/en-de/book/209755044/dark-data/david-j-hand/',\n",
       " 'image_url': 'https://image.ebooks.com/previews/209/209755/209755044/209755044-sml-1.jpg',\n",
       " 'image_alt_tag': 'Dark Data: Why What You Don&#x2019;t Know Matters',\n",
       " 'title': 'Dark Data',\n",
       " 'edition': '',\n",
       " 'subtitle': 'Why What You Don’t Know Matters',\n",
       " 'authors': [{'author_name': 'David J. Hand',\n",
       "   'author_url': '/en-de/author/david-j.-hand/165723/'}],\n",
       " 'num_authors': 1,\n",
       " 'series': ' Series',\n",
       " 'series_number': '',\n",
       " 'has_series': False,\n",
       " 'series_url': '',\n",
       " 'publisher': 'Princeton University Press',\n",
       " 'publication_year': '2020',\n",
       " 'price': '28,88 €',\n",
       " 'desktop_short_description': 'A practical guide to making good decisions in a world of missing data   In the era of big data, it is easy to imagine that we have all the information we need to make good decisions. But in fact the data we have are never complete, and may be only the tip of the iceberg. Just as much of the universe is composed of dark matter, invisible to us but...',\n",
       " 'mobile_short_description': 'A practical guide to making good decisions in a world of missing data   In the era of big data, it...',\n",
       " 'is_preorder': False,\n",
       " 'is_available': True,\n",
       " 'preorder_url': '/account/preorder/?bookId=209755044',\n",
       " 'add_to_cart_url': '/cart/add/209755044/',\n",
       " 'currency_symbol': '€',\n",
       " 'price_number': 28.8793}"
      ]
     },
     "execution_count": 14,
     "metadata": {},
     "output_type": "execute_result"
    }
   ],
   "source": [
    "results_json[0]"
   ]
  },
  {
   "cell_type": "code",
   "execution_count": 13,
   "metadata": {},
   "outputs": [
    {
     "data": {
      "text/plain": [
       "'Dark Data'"
      ]
     },
     "execution_count": 13,
     "metadata": {},
     "output_type": "execute_result"
    }
   ],
   "source": [
    "# title\n",
    "results_json[0]['title']"
   ]
  },
  {
   "cell_type": "code",
   "execution_count": 15,
   "metadata": {},
   "outputs": [
    {
     "data": {
      "text/plain": [
       "'Why What You Don’t Know Matters'"
      ]
     },
     "execution_count": 15,
     "metadata": {},
     "output_type": "execute_result"
    }
   ],
   "source": [
    "# subtitle\n",
    "results_json[0]['subtitle']"
   ]
  },
  {
   "cell_type": "code",
   "execution_count": 18,
   "metadata": {},
   "outputs": [
    {
     "data": {
      "text/plain": [
       "'David J. Hand'"
      ]
     },
     "execution_count": 18,
     "metadata": {},
     "output_type": "execute_result"
    }
   ],
   "source": [
    "# author\n",
    "results_json[0]['authors'][0]['author_name']"
   ]
  },
  {
   "cell_type": "code",
   "execution_count": 19,
   "metadata": {},
   "outputs": [
    {
     "data": {
      "text/plain": [
       "'Princeton University Press'"
      ]
     },
     "execution_count": 19,
     "metadata": {},
     "output_type": "execute_result"
    }
   ],
   "source": [
    "# publisher\n",
    "results_json[0]['publisher']"
   ]
  },
  {
   "cell_type": "code",
   "execution_count": 20,
   "metadata": {},
   "outputs": [
    {
     "data": {
      "text/plain": [
       "'2020'"
      ]
     },
     "execution_count": 20,
     "metadata": {},
     "output_type": "execute_result"
    }
   ],
   "source": [
    "# publication year\n",
    "results_json[0]['publication_year']"
   ]
  },
  {
   "cell_type": "code",
   "execution_count": 21,
   "metadata": {},
   "outputs": [
    {
     "data": {
      "text/plain": [
       "'28,88 €'"
      ]
     },
     "execution_count": 21,
     "metadata": {},
     "output_type": "execute_result"
    }
   ],
   "source": [
    "# price\n",
    "results_json[0]['price']"
   ]
  },
  {
   "cell_type": "markdown",
   "metadata": {},
   "source": [
    "#### Step 7 - Put everything together - Loop through results and append data inside a list"
   ]
  },
  {
   "cell_type": "code",
   "execution_count": 27,
   "metadata": {},
   "outputs": [],
   "source": [
    "title = []\n",
    "subtitle = []\n",
    "author = []\n",
    "publisher = []\n",
    "publication_year = []\n",
    "price = []\n",
    "\n",
    "for result in results_json:\n",
    "    \n",
    "    # title\n",
    "    title.append(result['title'])\n",
    "    \n",
    "    # subtitle\n",
    "    subtitle.append(result['subtitle'])\n",
    "    \n",
    "    # author\n",
    "    author.append(result['authors'][0]['author_name'])\n",
    "    \n",
    "    # publisher\n",
    "    publisher.append(result['publisher'])\n",
    "    \n",
    "    # publication_year\n",
    "    publication_year.append(result['publication_year'])\n",
    "    \n",
    "    # price\n",
    "    price.append(result['price'])\n"
   ]
  },
  {
   "cell_type": "code",
   "execution_count": 29,
   "metadata": {},
   "outputs": [
    {
     "data": {
      "text/plain": [
       "['David J. Hand',\n",
       " 'Jon Duckett',\n",
       " 'Nicholas Papagiannis',\n",
       " 'Orin Thomas',\n",
       " 'Debra Paul',\n",
       " 'Emmett Dulaney',\n",
       " 'Martin M. Weiss',\n",
       " 'Mike Chapple',\n",
       " 'John Warsinske',\n",
       " 'Ken Schwaber']"
      ]
     },
     "execution_count": 29,
     "metadata": {},
     "output_type": "execute_result"
    }
   ],
   "source": [
    "# double check\n",
    "author"
   ]
  },
  {
   "cell_type": "markdown",
   "metadata": {},
   "source": [
    "#### Step 8 - Pandas Dataframe"
   ]
  },
  {
   "cell_type": "code",
   "execution_count": 30,
   "metadata": {},
   "outputs": [],
   "source": [
    "books_df = pd.DataFrame({'Title':title, 'Subtitle':subtitle, 'Author':author, 'Publisher':publisher,\n",
    "                        'Publication Year': publication_year, 'Price':price})"
   ]
  },
  {
   "cell_type": "code",
   "execution_count": 31,
   "metadata": {},
   "outputs": [
    {
     "data": {
      "text/html": [
       "<div>\n",
       "<style scoped>\n",
       "    .dataframe tbody tr th:only-of-type {\n",
       "        vertical-align: middle;\n",
       "    }\n",
       "\n",
       "    .dataframe tbody tr th {\n",
       "        vertical-align: top;\n",
       "    }\n",
       "\n",
       "    .dataframe thead th {\n",
       "        text-align: right;\n",
       "    }\n",
       "</style>\n",
       "<table border=\"1\" class=\"dataframe\">\n",
       "  <thead>\n",
       "    <tr style=\"text-align: right;\">\n",
       "      <th></th>\n",
       "      <th>Title</th>\n",
       "      <th>Subtitle</th>\n",
       "      <th>Author</th>\n",
       "      <th>Publisher</th>\n",
       "      <th>Publication Year</th>\n",
       "      <th>Price</th>\n",
       "    </tr>\n",
       "  </thead>\n",
       "  <tbody>\n",
       "    <tr>\n",
       "      <th>0</th>\n",
       "      <td>Dark Data</td>\n",
       "      <td>Why What You Don’t Know Matters</td>\n",
       "      <td>David J. Hand</td>\n",
       "      <td>Princeton University Press</td>\n",
       "      <td>2020</td>\n",
       "      <td>28,88 €</td>\n",
       "    </tr>\n",
       "    <tr>\n",
       "      <th>1</th>\n",
       "      <td>HTML and CSS</td>\n",
       "      <td>Design and Build Websites</td>\n",
       "      <td>Jon Duckett</td>\n",
       "      <td>Wiley</td>\n",
       "      <td>2011</td>\n",
       "      <td>19,99 €</td>\n",
       "    </tr>\n",
       "    <tr>\n",
       "      <th>2</th>\n",
       "      <td>Effective SEO and Content Marketing</td>\n",
       "      <td>The Ultimate Guide for Maximizing Free Web Tra...</td>\n",
       "      <td>Nicholas Papagiannis</td>\n",
       "      <td>Wiley</td>\n",
       "      <td>2020</td>\n",
       "      <td>28,99 €</td>\n",
       "    </tr>\n",
       "    <tr>\n",
       "      <th>3</th>\n",
       "      <td>Windows Server 2019 Inside Out</td>\n",
       "      <td></td>\n",
       "      <td>Orin Thomas</td>\n",
       "      <td>Pearson Education</td>\n",
       "      <td>2020</td>\n",
       "      <td>50,48 €</td>\n",
       "    </tr>\n",
       "    <tr>\n",
       "      <th>4</th>\n",
       "      <td>Business Analysis</td>\n",
       "      <td></td>\n",
       "      <td>Debra Paul</td>\n",
       "      <td>BCS Learning &amp; Development Limited</td>\n",
       "      <td>2014</td>\n",
       "      <td>48,14 €</td>\n",
       "    </tr>\n",
       "    <tr>\n",
       "      <th>5</th>\n",
       "      <td>CompTIA Security+ Study Guide</td>\n",
       "      <td>Exam SY0-501</td>\n",
       "      <td>Emmett Dulaney</td>\n",
       "      <td>Wiley</td>\n",
       "      <td>2017</td>\n",
       "      <td>32,99 €</td>\n",
       "    </tr>\n",
       "    <tr>\n",
       "      <th>6</th>\n",
       "      <td>CompTIA Security+ SY0-601 Exam Cram</td>\n",
       "      <td></td>\n",
       "      <td>Martin M. Weiss</td>\n",
       "      <td>Pearson Education</td>\n",
       "      <td>2020</td>\n",
       "      <td>32,45 €</td>\n",
       "    </tr>\n",
       "    <tr>\n",
       "      <th>7</th>\n",
       "      <td>(ISC)2 CISSP Certified Information Systems Sec...</td>\n",
       "      <td></td>\n",
       "      <td>Mike Chapple</td>\n",
       "      <td>Wiley</td>\n",
       "      <td>2018</td>\n",
       "      <td>44,99 €</td>\n",
       "    </tr>\n",
       "    <tr>\n",
       "      <th>8</th>\n",
       "      <td>The Official (ISC)2 Guide to the CISSP CBK Ref...</td>\n",
       "      <td></td>\n",
       "      <td>John Warsinske</td>\n",
       "      <td>Wiley</td>\n",
       "      <td>2019</td>\n",
       "      <td>69,99 €</td>\n",
       "    </tr>\n",
       "    <tr>\n",
       "      <th>9</th>\n",
       "      <td>Software in 30 Days</td>\n",
       "      <td>How Agile Managers Beat the Odds, Delight Thei...</td>\n",
       "      <td>Ken Schwaber</td>\n",
       "      <td>Wiley</td>\n",
       "      <td>2012</td>\n",
       "      <td>19,99 €</td>\n",
       "    </tr>\n",
       "  </tbody>\n",
       "</table>\n",
       "</div>"
      ],
      "text/plain": [
       "                                               Title  \\\n",
       "0                                          Dark Data   \n",
       "1                                       HTML and CSS   \n",
       "2                Effective SEO and Content Marketing   \n",
       "3                     Windows Server 2019 Inside Out   \n",
       "4                                  Business Analysis   \n",
       "5                      CompTIA Security+ Study Guide   \n",
       "6                CompTIA Security+ SY0-601 Exam Cram   \n",
       "7  (ISC)2 CISSP Certified Information Systems Sec...   \n",
       "8  The Official (ISC)2 Guide to the CISSP CBK Ref...   \n",
       "9                                Software in 30 Days   \n",
       "\n",
       "                                            Subtitle                Author  \\\n",
       "0                    Why What You Don’t Know Matters         David J. Hand   \n",
       "1                          Design and Build Websites           Jon Duckett   \n",
       "2  The Ultimate Guide for Maximizing Free Web Tra...  Nicholas Papagiannis   \n",
       "3                                                              Orin Thomas   \n",
       "4                                                               Debra Paul   \n",
       "5                                       Exam SY0-501        Emmett Dulaney   \n",
       "6                                                          Martin M. Weiss   \n",
       "7                                                             Mike Chapple   \n",
       "8                                                           John Warsinske   \n",
       "9  How Agile Managers Beat the Odds, Delight Thei...          Ken Schwaber   \n",
       "\n",
       "                            Publisher Publication Year    Price  \n",
       "0          Princeton University Press             2020  28,88 €  \n",
       "1                               Wiley             2011  19,99 €  \n",
       "2                               Wiley             2020  28,99 €  \n",
       "3                   Pearson Education             2020  50,48 €  \n",
       "4  BCS Learning & Development Limited             2014  48,14 €  \n",
       "5                               Wiley             2017  32,99 €  \n",
       "6                   Pearson Education             2020  32,45 €  \n",
       "7                               Wiley             2018  44,99 €  \n",
       "8                               Wiley             2019  69,99 €  \n",
       "9                               Wiley             2012  19,99 €  "
      ]
     },
     "execution_count": 31,
     "metadata": {},
     "output_type": "execute_result"
    }
   ],
   "source": [
    "books_df"
   ]
  },
  {
   "cell_type": "markdown",
   "metadata": {},
   "source": [
    "#### Step 9 - Store results in Excel"
   ]
  },
  {
   "cell_type": "code",
   "execution_count": 34,
   "metadata": {},
   "outputs": [],
   "source": [
    "books_df.to_excel('books.xlsx', index=False)"
   ]
  }
 ],
 "metadata": {
  "kernelspec": {
   "display_name": "Python 3",
   "language": "python",
   "name": "python3"
  },
  "language_info": {
   "codemirror_mode": {
    "name": "ipython",
    "version": 3
   },
   "file_extension": ".py",
   "mimetype": "text/x-python",
   "name": "python",
   "nbconvert_exporter": "python",
   "pygments_lexer": "ipython3",
   "version": "3.9.2"
  }
 },
 "nbformat": 4,
 "nbformat_minor": 4
}
