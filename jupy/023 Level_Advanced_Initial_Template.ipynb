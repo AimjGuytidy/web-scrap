{
 "cells": [
  {
   "cell_type": "markdown",
   "metadata": {},
   "source": [
    "# Part 1 - Autotrader.com"
   ]
  },
  {
   "cell_type": "markdown",
   "metadata": {},
   "source": [
    "#### Step 1 - Imports"
   ]
  },
  {
   "cell_type": "code",
   "execution_count": 2,
   "metadata": {},
   "outputs": [],
   "source": [
    "import requests\n",
    "import pandas as pd "
   ]
  },
  {
   "cell_type": "markdown",
   "metadata": {},
   "source": [
    "#### Step 2 - CURL "
   ]
  },
  {
   "cell_type": "code",
   "execution_count": 463,
   "metadata": {},
   "outputs": [],
   "source": [
    "# https://curl.trillworks.com/"
   ]
  },
  {
   "cell_type": "code",
   "execution_count": 11,
   "metadata": {},
   "outputs": [],
   "source": [
    "cookies = {\n",
    "    'ATC_ID': '32db7b1a-f20b-47ed-b19c-17b743edf0e8',\n",
    "    'bm_sz': 'A4ABAA1FC9A10D49A2A97C9BCC05042E~YAAQJppkX6QcAN56AQAAdvuRDwzB3Y9YP0rMfvlOXx12SzeGwyVm77ssNmbZgK0CW4pLu1JzFhnretx9vQ5LyhZDOUzXpWN+mkXA5FxaMpomPkgfUucPpOvkwn+9+mw+eadm3PLMb6A99xXP9/KCL2J8+Ef27UdrCx6wZ0FCg9BLR4qpC+2QcIYkdSTCVimMrT7ACmFtIRrL/is4JWutNqENzCJK+tOThJa0rJOwjk0XsjGSUiwIrj8kWZSkaBcy6yQgJ7zkHNSCZekLRMIh14jAdF9CuOkqVzDxablrUoVXcZNp1T7T~4277318~3356464',\n",
    "    'hideCookieBanner': 'true',\n",
    "    'ak_bmsc': 'DF3B70F1B4CE9542F46296E93921341A~000000000000000000000000000000~YAAQJppkX7EcAN56AQAA+ACSDwydO6AJ1mGaCqTtPJiHNhU5USjQLmOjxsD3FduZTm81DZtANQrcd/14lLWrZzLm+Eealqs5RxXx8dnaVs0bC1P8qf+zdVkmTiYge1mjlzqlK1Vjq6ekvRuMV2QkoU7c6K+T+izEaXK/W+cNMYQ+vxisS1o/n9EEuZ/uMNi6WQ45sTMoJZtr5mTkc89bRiqf2HNaQ8iEpn42FUK7BuVUiu24sasjyj3d3xLjiRRh7c/sXz5vbb85A3ZJIK5/6afvRrH/f4CA4RJyadNf0m+nM+TK0K2PSvvpyUEnGI2HFznJjwIeFtTXthWzEBoEkvrOri3qcVnbFPjBO91EF4Lpb4AQjlK3hGAUCcC7bBCPot4MhcE5An2a8QZzUy0oOUiRtgCAcUWqUNzuJikmMODcq6ldqEaQ+QLbp3YLRHH2v0woWdgqmHhjp458EXgX2hiAk3sUnL3446mdTGKr7XkyDU6GjhzVY5ThS0gdbP0=',\n",
    "    'pxa_id': '79iaGMiAiwwayHyHgzNr3Me4',\n",
    "    'AMCVS_A9D33BC75245B2650A490D4D^%^40AdobeOrg': '1',\n",
    "    '__gads': 'ID=98e6379966ce292c:T=1628053832:S=ALNI_MaaSlkcisKrZtcxKiZYg4n2wZBiDg',\n",
    "    '_gcl_au': '1.1.664255415.1628053833',\n",
    "    '_scid': '2bef0d68-3a07-4359-87c8-76c5a1974e33',\n",
    "    's_ecid': 'MCMID^%^7C36919032010824691563314008097953066441',\n",
    "    '_aeaid': 'e5d96e76-faa9-4b5b-b4ce-54602e41416f',\n",
    "    '_ga': 'GA1.2.1766639795.1628053833',\n",
    "    '_gid': 'GA1.2.541232138.1628053833',\n",
    "    'aeatstartmessage': 'true',\n",
    "    'abc': '79iaGMiAiwwayHyHgzNr3Me4',\n",
    "    'pxa_ipv4': '82.119.187.226',\n",
    "    'pixall_cookie_sync': 'true',\n",
    "    'pxa_at': 'true',\n",
    "    '_cs_c': '1',\n",
    "    '_fbp': 'fb.1.1628053833816.1634571730',\n",
    "    'aam_aa': 'aamaa^%^3D96119^%^7C96152^%^7C96128',\n",
    "    'aamoptsegs': 'aam^%^3D92872',\n",
    "    'aam_uuid': '37090296362282044013294629854235853212',\n",
    "    '_lr_geo_location': 'DE',\n",
    "    '_pin_unauth': 'dWlkPU1URXlZVGRsTTJJdE9EQTVNeTAwWkdRNExUZzROekl0WVRBNE5UazBaakUzWW1JeQ',\n",
    "    'ATC_USER_ZIP': '10001',\n",
    "    'ATC_USER_RADIUS': '25',\n",
    "    'pixall_abc': '79iaGMiAiwwayHyHgzNr3Me4',\n",
    "    '_pbjs_userid_consent_data': '3524755945110770',\n",
    "    'AMCV_A9D33BC75245B2650A490D4D^%^40AdobeOrg': '1075005958^%^7CMCIDTS^%^7C18844^%^7CMCMID^%^7C36919032010824691563314008097953066441^%^7CMCAAMLH-1628659145^%^7C6^%^7CMCAAMB-1628659145^%^7CRKhpRz8krg2tLO6pguXWp5olkAcUniQYPHaMWWgdJ3xzPWQmdj0y^%^7CMCOPTOUT-1628061545s^%^7CNONE^%^7CMCAID^%^7CNONE^%^7CMCCIDH^%^7C-688518327^%^7CvVersion^%^7C4.4.1',\n",
    "    'abc_3rd_party': '79iaGMiAiwwayHyHgzNr3Me4',\n",
    "    '_lr_retry_request': 'true',\n",
    "    '_lr_env_src_ats': 'false',\n",
    "    'panoramaId_expiry': '1628140746005',\n",
    "    '_cc_id': '27a67e959075d6a7e407475c0291dc51',\n",
    "    '_4c_mc_': '9aadf87c-6d5e-489c-8bf3-ccfed4488f37',\n",
    "    'DCNAME': 'www-aws.autotrader.com',\n",
    "    'AWSELB': '4F5B35E70EB661C4D1C098EABD38669F62BFA33A90174FA3222DF3081BF07DA093D018B9AF549D736AE6046FECBF85DD2416AA6A668DD35EA985B16DD84E355B010744611D',\n",
    "    'AWSELBCORS': '4F5B35E70EB661C4D1C098EABD38669F62BFA33A90174FA3222DF3081BF07DA093D018B9AF549D736AE6046FECBF85DD2416AA6A668DD35EA985B16DD84E355B010744611D',\n",
    "    'exp': 'csFF~cntl',\n",
    "    'SSM_GFU': 'eyJ2ZXJzaW9uIjoyLCJndWlkIjoiNjEwYTI1N2RkODg1ZmI1MDViMDAwMDBkIiwic2lkIjoiUzIwMjEwODA0MDUyODg0MnhGR0pwdndDSnpGRyIsImxhc3Rfc2VlbiI6MTYyODA1NDkzOH0=',\n",
    "    'SSM_UTC': 'Z3VpZDo6NjEwYTI1N2RkODg1ZmI1MDViMDAwMDBkfHx8c291cmNlOjpnZnU=',\n",
    "    'SSM_UTC_LS': 'Z3VpZDo6NjEwYTI1N2RkODg1ZmI1MDViMDAwMDBkfHx8c291cmNlOjpnZnU=',\n",
    "    'dxatc': '^%^3D2048^%^2C2049^%^2C2050^%^2C2051^%^2C2060^%^2C2905^%^2C2952^%^2C3053^%^2C3085^%^2C3096^%^2C3097^%^2C3100^%^2C3104^%^2C3142^%^2C3147^%^2C6397^%^2C6458^%^2C6461^%^2C6470^%^2C6471^%^2C6472^%^2C6473^%^2C6482^%^2C6483^%^2C6494^%^2C6495^%^2C6544^%^2C6545^%^2C6577^%^2C6579^%^2C6592^%^2C6597^%^2C6598^%^2C6608^%^2C6609^%^2C6611^%^2C6612^%^2C6662^%^2C6682^%^2C6695^%^2C6704^%^2C6721^%^2C6722^%^2C6778^%^2C6779^%^2C6780^%^2C6781^%^2C7222^%^2C7246^%^2C7281',\n",
    "    'aam_tnt_vin': 'atc_seg18^%^3D92498^%^2Catc_seg27^%^3D96938^%^2Catc_seg31^%^3D92302^%^2Cvin_seg^%^3Datc',\n",
    "    'akaalb_at_alb': '1628058130~op=AT_col_lb:AT_col_use1^|~rv=82~m=AT_col_use1:0^|~os=659c3ec2d171bf62456d07d58a4d53bf~id=4bda8c2ffaea853e03d96c00a4314ab1',\n",
    "    '_uetsid': '4b6a5060f4e211ebba26138918bd8c81',\n",
    "    '_uetvid': '4b6aa5b0f4e211eb970ae5e6be02e0a6',\n",
    "    '_cs_id': '6a71bc15-f838-a2b5-a574-b623a735976b.1628053833.1.1628056594.1628053833.1.1662217833785.Lax.0',\n",
    "    '_cs_s': '10.0.0.1628058394194',\n",
    "    '_td': 'fc4a34fa-561f-483a-97c0-ec5b86df4c93',\n",
    "    's_sess': '^%^20s_skw3^%^3Dfyc_srl^%^3B^%^20pageNum^%^3D^%^3B^%^20s_cc^%^3Dtrue^%^3B^%^20s_ppv^%^3Dfyc_srl^%^3B',\n",
    "    'JSESSIONID': '21E4EEF47AD1DBDBBE702046459A16D9',\n",
    "    'bm_sv': '8FC2C4FBC8B0F7D869D227FA5B5ECD38~VG7yR/YafU7YVHrUOrQ9g0AbqRqDl/rDXaIrpdmDRAqXLu+UrgGtZ4SaqFOsPAKWs7yx9+UHlMvQFrdIYNi5L796hpjTP0tnzMMU6AziTVwhhGWyaiyyl/GjgvvSQW6oLJBI6fp+xGIQrFeOc5k/v612gcjCZGIfK2t/4CY6Vzo=',\n",
    "    '_gat_UA-182514997-2': '1',\n",
    "    'akaalb_pixall_prod': '1628058455~op=ddc_ana_pixall_prod:eng_ana_pixall_prod-us-west-2^|~rv=52~m=eng_ana_pixall_prod-us-west-2:0^|~os=6aafa3aac97a52a58cd06655a170720e~id=c63a1ad6808c489c5df68371bde10431',\n",
    "    '_abck': 'C0D3E38236ED6EABEA3D9D02E072D618~0~YAAQJppkX19RAN56AQAAFF+9DwZUiGJ/eQqLE4xngRsAGGEuIFKZ/wH9oigt0SYrjZ9JMi9KehesXzM3/JFUrb6o+GNFlAUFF5XdM0tq4vMr7g97PIBJTelOoWXi95FrGb306atMmkSz25DBGSfOsMfh3cIxHwmx7DdNl5bxGjgGD9dpfYf+7D4VvW1vhW0ZKfWhJ+Wpj/1IsMNoA/Bne5SQ6NK8uG2Y8Y4N5IwtLLBLmyH1+AbhtksojqGC1ZwCQ1ibV+3C3XS+RSW27WfDXSoNpNnV5wQcn4sNTLFBkWBmovvyhdbZLz8ygR6kKGA6YO+NFqHRKBC/r2nW3N8Y66iG0HOqoSis/qhX/gEzCHKgg9FSemSmi2+i9GFN8+H8KegR2xS8Pvyu+JRIVRO3DVqVejFlUE+Dc+LsdA==~-1~^|^|-1^|^|~-1',\n",
    "    's_pers': '^%^20s_tbm27.7^%^3Dtrue^%^7C1630448913096^%^3B^%^20ev95gapv^%^3DTyped^%^252FBookmarked^%^7C1628058489958^%^3B^%^20ev97gapv^%^3Dundefined^%^7C1628058489968^%^3B^%^20ev98gapv^%^3Dundefined^%^7C1630447199975^%^3B^%^20s_tbm^%^3Dtrue^%^7C1628058489978^%^3B^%^20ev96gapv^%^3D^%^7C1630447199982^%^3B',\n",
    "    's_sq': '^%^5B^%^5BB^%^5D^%^5D',\n",
    "}\n",
    "\n",
    "headers = {\n",
    "    'authority': 'www.autotrader.com',\n",
    "    'sec-ch-ua': '^\\\\^Chromium^\\\\^;v=^\\\\^94^\\\\^, ^\\\\^Google',\n",
    "    'tracestate': '1190893^@nr=0-1-1543670-910379837-0dfdc60e085a3522----1628056690991',\n",
    "    'traceparent': '00-9612a819899dbf45ea1beb4ba6373540-0dfdc60e085a3522-01',\n",
    "    'sec-ch-ua-mobile': '?0',\n",
    "    'user-agent': 'Mozilla/5.0 (Windows NT 10.0; Win64; x64) AppleWebKit/537.36 (KHTML, like Gecko) Chrome/94.0.4595.0 Safari/537.36',\n",
    "    'newrelic': 'eyJ2IjpbMCwxXSwiZCI6eyJ0eSI6IkJyb3dzZXIiLCJhYyI6IjE1NDM2NzAiLCJhcCI6IjkxMDM3OTgzNyIsImlkIjoiMGRmZGM2MGUwODVhMzUyMiIsInRyIjoiOTYxMmE4MTk4OTlkYmY0NWVhMWJlYjRiYTYzNzM1NDAiLCJ0aSI6MTYyODA1NjY5MDk5MSwidGsiOiIxMTkwODkzIn19',\n",
    "    'content-type': 'application/json',\n",
    "    'sec-ch-ua-platform': '^\\\\^Windows^\\\\^',\n",
    "    'accept': '*/*',\n",
    "    'sec-fetch-site': 'same-origin',\n",
    "    'sec-fetch-mode': 'cors',\n",
    "    'sec-fetch-dest': 'empty',\n",
    "    'referer': 'https://www.autotrader.com/cars-for-sale/all-cars/new-york-ny-10001?dma=&searchRadius=25&location=&marketExtension=include&isNewSearch=false&showAccelerateBanner=false&sortBy=relevance&numRecords=100&firstRecord=100',\n",
    "    'accept-language': 'en-US,en;q=0.9',\n",
    "}\n",
    "\n",
    "params = (\n",
    "    ('allListingType', 'all-cars'),\n",
    "    ('city', 'New^%^20York'),\n",
    "    ('state', 'NY'),\n",
    "    ('zip', '10001'),\n",
    "    ('location', '^%^5Bobject^%^20Object^%^5D'),\n",
    "    ('searchRadius', '25'),\n",
    "    ('marketExtension', 'include'),\n",
    "    ('isNewSearch', 'false'),\n",
    "    ('showAccelerateBanner', 'false'),\n",
    "    ('sortBy', 'relevance'),\n",
    "    ('numRecords', '100'),\n",
    "    ('firstRecord', '100'),\n",
    "    ('dma', '^%^5Bobject^%^20Object^%^5D'),\n",
    "    ('channel', 'ATC'),\n",
    "    ('relevanceConfig', 'default'),\n",
    "    ('searchByDma', 'false'),\n",
    ")\n",
    "\n",
    "response = requests.get('https://www.autotrader.com/rest/searchresults/base', headers=headers, params=params, cookies=cookies)"
   ]
  },
  {
   "cell_type": "code",
   "execution_count": null,
   "metadata": {},
   "outputs": [],
   "source": []
  },
  {
   "cell_type": "markdown",
   "metadata": {},
   "source": [
    "#### Step 3 - Check Status Code"
   ]
  },
  {
   "cell_type": "code",
   "execution_count": 12,
   "metadata": {},
   "outputs": [
    {
     "data": {
      "text/plain": [
       "<Response [500]>"
      ]
     },
     "execution_count": 12,
     "metadata": {},
     "output_type": "execute_result"
    }
   ],
   "source": [
    "response"
   ]
  },
  {
   "cell_type": "markdown",
   "metadata": {},
   "source": [
    "#### Step 4 - Create Json Object"
   ]
  },
  {
   "cell_type": "code",
   "execution_count": null,
   "metadata": {},
   "outputs": [],
   "source": []
  },
  {
   "cell_type": "code",
   "execution_count": null,
   "metadata": {},
   "outputs": [],
   "source": []
  },
  {
   "cell_type": "code",
   "execution_count": null,
   "metadata": {},
   "outputs": [],
   "source": []
  },
  {
   "cell_type": "markdown",
   "metadata": {},
   "source": [
    "#### Step 5 - Output Keys"
   ]
  },
  {
   "cell_type": "code",
   "execution_count": null,
   "metadata": {},
   "outputs": [],
   "source": []
  },
  {
   "cell_type": "markdown",
   "metadata": {},
   "source": [
    "#### Step 6 - Find your Data "
   ]
  },
  {
   "cell_type": "markdown",
   "metadata": {},
   "source": [
    "Necessary data\n",
    "- brand\n",
    "- model\n",
    "- mileage\n",
    "- year\n",
    "- price"
   ]
  },
  {
   "cell_type": "code",
   "execution_count": null,
   "metadata": {},
   "outputs": [],
   "source": []
  },
  {
   "cell_type": "code",
   "execution_count": null,
   "metadata": {},
   "outputs": [],
   "source": []
  },
  {
   "cell_type": "markdown",
   "metadata": {},
   "source": [
    "#### Step 7 - Put everything together - Loop through results and append data inside a list"
   ]
  },
  {
   "cell_type": "code",
   "execution_count": null,
   "metadata": {},
   "outputs": [],
   "source": []
  },
  {
   "cell_type": "markdown",
   "metadata": {},
   "source": [
    "#### Step 8 - Pandas Dataframe - Single Page"
   ]
  },
  {
   "cell_type": "code",
   "execution_count": null,
   "metadata": {},
   "outputs": [],
   "source": []
  },
  {
   "cell_type": "code",
   "execution_count": null,
   "metadata": {},
   "outputs": [],
   "source": []
  },
  {
   "cell_type": "markdown",
   "metadata": {},
   "source": [
    "#### Step 9 - Scraping Multiple Pages (here: 10 pages to get 1000 results)"
   ]
  },
  {
   "cell_type": "code",
   "execution_count": null,
   "metadata": {},
   "outputs": [],
   "source": []
  },
  {
   "cell_type": "markdown",
   "metadata": {},
   "source": [
    "#### Optional (Step 10 - Store Results in Excel)"
   ]
  },
  {
   "cell_type": "code",
   "execution_count": null,
   "metadata": {},
   "outputs": [],
   "source": []
  },
  {
   "cell_type": "markdown",
   "metadata": {},
   "source": [
    "# Part 2 - Truecar.com"
   ]
  },
  {
   "cell_type": "markdown",
   "metadata": {},
   "source": [
    "#### Step 1 - Imports"
   ]
  },
  {
   "cell_type": "code",
   "execution_count": 306,
   "metadata": {},
   "outputs": [],
   "source": [
    "# not necessary here (already done)"
   ]
  },
  {
   "cell_type": "markdown",
   "metadata": {},
   "source": [
    "#### Step 2 - CURL "
   ]
  },
  {
   "cell_type": "code",
   "execution_count": 307,
   "metadata": {},
   "outputs": [],
   "source": [
    "# https://curl.trillworks.com/"
   ]
  },
  {
   "cell_type": "code",
   "execution_count": null,
   "metadata": {},
   "outputs": [],
   "source": []
  },
  {
   "cell_type": "markdown",
   "metadata": {},
   "source": [
    "#### Step 3 - Check Status Code"
   ]
  },
  {
   "cell_type": "code",
   "execution_count": null,
   "metadata": {},
   "outputs": [],
   "source": []
  },
  {
   "cell_type": "markdown",
   "metadata": {},
   "source": [
    "#### Step 4 - Create Json Object"
   ]
  },
  {
   "cell_type": "code",
   "execution_count": null,
   "metadata": {},
   "outputs": [],
   "source": []
  },
  {
   "cell_type": "code",
   "execution_count": null,
   "metadata": {},
   "outputs": [],
   "source": []
  },
  {
   "cell_type": "markdown",
   "metadata": {},
   "source": [
    "#### Step 5 - Output Keys"
   ]
  },
  {
   "cell_type": "code",
   "execution_count": null,
   "metadata": {},
   "outputs": [],
   "source": []
  },
  {
   "cell_type": "markdown",
   "metadata": {},
   "source": [
    "#### Step 6 - Find your Data "
   ]
  },
  {
   "cell_type": "markdown",
   "metadata": {},
   "source": [
    "Necessary data\n",
    "- brand\n",
    "- model\n",
    "- mileage\n",
    "- year\n",
    "- price"
   ]
  },
  {
   "cell_type": "code",
   "execution_count": null,
   "metadata": {},
   "outputs": [],
   "source": []
  },
  {
   "cell_type": "code",
   "execution_count": null,
   "metadata": {},
   "outputs": [],
   "source": []
  },
  {
   "cell_type": "markdown",
   "metadata": {},
   "source": [
    "#### Step 7 - Put everything together - Loop through results and append data inside a list"
   ]
  },
  {
   "cell_type": "code",
   "execution_count": null,
   "metadata": {},
   "outputs": [],
   "source": []
  },
  {
   "cell_type": "markdown",
   "metadata": {},
   "source": [
    "#### Step 8 - Pandas Dataframe - Single Page"
   ]
  },
  {
   "cell_type": "code",
   "execution_count": null,
   "metadata": {},
   "outputs": [],
   "source": []
  },
  {
   "cell_type": "markdown",
   "metadata": {},
   "source": [
    "#### Step 9 - Scraping Multiple Pages (here: 34 pages to get 1020 results)"
   ]
  },
  {
   "cell_type": "code",
   "execution_count": null,
   "metadata": {},
   "outputs": [],
   "source": []
  },
  {
   "cell_type": "code",
   "execution_count": null,
   "metadata": {},
   "outputs": [],
   "source": [
    "# dataframe\n"
   ]
  },
  {
   "cell_type": "code",
   "execution_count": null,
   "metadata": {},
   "outputs": [],
   "source": []
  },
  {
   "cell_type": "markdown",
   "metadata": {},
   "source": [
    "# Part 3 - Combine Dataframes (Autotrader.com & Truecar.com)"
   ]
  },
  {
   "cell_type": "markdown",
   "metadata": {},
   "source": [
    "#### bring data in same format"
   ]
  },
  {
   "cell_type": "code",
   "execution_count": 415,
   "metadata": {},
   "outputs": [],
   "source": [
    "# mileage\n",
    "# price\n",
    "# price column"
   ]
  },
  {
   "cell_type": "code",
   "execution_count": null,
   "metadata": {},
   "outputs": [],
   "source": []
  },
  {
   "cell_type": "markdown",
   "metadata": {},
   "source": [
    "#### rename price column name"
   ]
  },
  {
   "cell_type": "code",
   "execution_count": null,
   "metadata": {},
   "outputs": [],
   "source": []
  },
  {
   "cell_type": "markdown",
   "metadata": {},
   "source": [
    "## Connect to Database - PostgreSQL"
   ]
  },
  {
   "cell_type": "code",
   "execution_count": null,
   "metadata": {},
   "outputs": [],
   "source": []
  }
 ],
 "metadata": {
  "kernelspec": {
   "display_name": "Python 3",
   "language": "python",
   "name": "python3"
  },
  "language_info": {
   "codemirror_mode": {
    "name": "ipython",
    "version": 3
   },
   "file_extension": ".py",
   "mimetype": "text/x-python",
   "name": "python",
   "nbconvert_exporter": "python",
   "pygments_lexer": "ipython3",
   "version": "3.9.2"
  }
 },
 "nbformat": 4,
 "nbformat_minor": 4
}
